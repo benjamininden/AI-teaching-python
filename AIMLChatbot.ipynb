{
  "nbformat": 4,
  "nbformat_minor": 0,
  "metadata": {
    "colab": {
      "name": "AIMLChatbot.ipynb",
      "provenance": [],
      "toc_visible": true,
      "authorship_tag": "ABX9TyN0qMTcb3YrcwboB3GE1Sot",
      "include_colab_link": true
    },
    "kernelspec": {
      "name": "python3",
      "display_name": "Python 3"
    },
    "language_info": {
      "name": "python"
    }
  },
  "cells": [
    {
      "cell_type": "markdown",
      "metadata": {
        "id": "view-in-github",
        "colab_type": "text"
      },
      "source": [
        "<a href=\"https://colab.research.google.com/github/benjamininden/AI-teaching-python/blob/main/AIMLChatbot.ipynb\" target=\"_parent\"><img src=\"https://colab.research.google.com/assets/colab-badge.svg\" alt=\"Open In Colab\"/></a>"
      ]
    },
    {
      "cell_type": "markdown",
      "metadata": {
        "id": "VX4Lc4RCsdRB"
      },
      "source": [
        "# An AIML based chatbot"
      ]
    },
    {
      "cell_type": "markdown",
      "metadata": {
        "id": "AbkEPVnSsnTO"
      },
      "source": [
        "Chatbots can use a variety of techniques to generate responses to user input. A common one is based on rules where each rule consists of a pattern to be matched by the input, and an output that is generated in this case. [Artificial Intelligence Markup Language (AIML)](http://www.aiml.foundation/doc.html) allows to specify those rules in XML format such that interpreters are available for executing those rules.\n",
        "\n",
        "The code below provides an example of a simple AIML based chatbot with connections to Wikipedia an Open Weathermap as extras. This chatbot happens to be specialised on the topic of urban agriculture. Suggested execises:\n",
        "\n",
        "*   Modify the chatbot to talk about your favourite topic.\n",
        "*   Ultimately, pattern matching is a bit inflexible against variations in word order, typing errors, etc. Another approach is to calculate the similarities between the user input and a long list of possible user input. The answer linked to the possible input that is most similar to the actual input is then returned. For this to work, one can convert a sentence into a feature dictionary using the bag of words technique, filter out stop words, and create feature vectors from the result using the tf-idf technique. Similarity between two feature vectors can be calculated using cosine similarity. You can add this approach to the chatbot, the individual methods are implemented within the [scikit-learn](https://scikit-learn.org/stable/) library and you find more information about them in the documentation.\n",
        "\n",
        "For our basic chatbot, we may first want to install a few Python packages that are missing from most Python installations."
      ]
    },
    {
      "cell_type": "code",
      "metadata": {
        "id": "97L9f7gOstCj",
        "colab": {
          "base_uri": "https://localhost:8080/"
        },
        "outputId": "d2cddf60-bba9-4368-f897-f767ec368b5e"
      },
      "source": [
        "! pip3 install -q wikipedia-api\n",
        "! pip3 install -q aiml"
      ],
      "execution_count": 2,
      "outputs": [
        {
          "output_type": "stream",
          "text": [
            "  Building wheel for wikipedia-api (setup.py) ... \u001b[?25l\u001b[?25hdone\n"
          ],
          "name": "stdout"
        }
      ]
    },
    {
      "cell_type": "markdown",
      "metadata": {
        "id": "KiWR8nBVs8Hq"
      },
      "source": [
        "Next, we create the XML file. Note that there are different kinds of rules, some refer to other rules using the srai tag. Also, some rules return their original input preceded by somthing like \"#0$\". This signals to the Python program to use another method to (further) process the input."
      ]
    },
    {
      "cell_type": "code",
      "metadata": {
        "id": "rLo4GP08qVkk",
        "colab": {
          "base_uri": "https://localhost:8080/"
        },
        "outputId": "4069ee32-6e63-488b-f1c7-d88472ea11a2"
      },
      "source": [
        "%%writefile mybot.xml\n",
        "<aiml version=\"1.0.1\" encoding=\"UTF-8\">\n",
        "\n",
        "<!-- Greetings and Politeness -->\n",
        "<category> <pattern> HELLO </pattern>\n",
        "  <template>Hello! How are you?</template> </category>\n",
        "\n",
        "<category> <pattern> HELLO * </pattern>\n",
        "  <template><srai>HELLO</srai></template> </category>\n",
        "\n",
        "<category> <pattern> HI </pattern>\n",
        "  <template><srai>HELLO</srai></template> </category>\n",
        "\n",
        "<category> <pattern> HI * </pattern>\n",
        "  <template><srai>HELLO</srai></template> </category>\n",
        "\n",
        "<category> <pattern> HOW ARE YOU </pattern>\n",
        "  <template>I am functioning within normal parameters, thanks for asking.</template></category>\n",
        "\n",
        "<category><pattern> I AM FINE </pattern>\n",
        "  <template>That is good to know. What would you like to discuss regarding urban agriculture?</template></category>\n",
        "\n",
        "<category><pattern> BYE </pattern>\n",
        "  <template>#0$Bye! Nice talking to you. You take care now.</template></category>\n",
        "\n",
        "<category><pattern> GOODBYE </pattern>\n",
        "  <template><srai>BYE</srai></template></category>\n",
        "\n",
        "<category><pattern> EXIT </pattern>\n",
        "  <template><srai>BYE</srai></template></category>\n",
        "\n",
        "<category> <pattern> THANKS </pattern>\n",
        "  <template>You are welcome.</template></category>\n",
        "\n",
        "<category> <pattern> THANK YOU </pattern>\n",
        "  <template><srai>THANKS</srai></template></category>\n",
        "\n",
        "<category> <pattern> CHEERS </pattern>\n",
        "  <template>Sure mate.</template></category>\n",
        "\n",
        "<category> <pattern> CHEERS * </pattern>\n",
        "  <template>Sure mate.</template></category>\n",
        "\n",
        "<!-- Weather API -->\n",
        "<category><pattern> WHAT IS THE WEATHER LIKE IN * </pattern>\n",
        "  <template>#2$<star/></template></category>\n",
        "\n",
        "<category><pattern> HOW IS THE WEATHER IN * </pattern>\n",
        "  <template><srai>WHAT IS THE WEATHER LIKE IN <star/></srai></template></category>\n",
        "\n",
        "<!--- Wikipedia API -->\n",
        "<category><pattern> WHAT IS A * </pattern>\n",
        "  <template>#1$<star index=\"1\"/></template></category>\n",
        "\n",
        "<category><pattern> WHAT IS AN * </pattern>\n",
        "  <template><srai>WHAT IS A <star/></srai></template></category>\n",
        "\n",
        "<category><pattern> WHAT IS * </pattern>\n",
        "  <template><srai>WHAT IS A <star/></srai></template></category>\n",
        "\n",
        "<category><pattern> DEFINE * </pattern>\n",
        "  <template><srai>WHAT IS A <star/></srai></template></category>\n",
        "\n",
        "<category><pattern> WHO IS * </pattern>\n",
        "  <template><srai>WHAT IS A <star/></srai></template></category>\n",
        "\n",
        "<!-- Default reaction -->\n",
        "<category><pattern> * </pattern>\n",
        "  <template>#99$<star index=\"1\"/></template></category>\n",
        "\n",
        "</aiml>\n"
      ],
      "execution_count": 3,
      "outputs": [
        {
          "output_type": "stream",
          "text": [
            "Writing mybot.xml\n"
          ],
          "name": "stdout"
        }
      ]
    },
    {
      "cell_type": "markdown",
      "metadata": {
        "id": "9LVvypfztH1I"
      },
      "source": [
        "We need to initialise the Wikipedia-API."
      ]
    },
    {
      "cell_type": "code",
      "metadata": {
        "id": "6U-EgqkOtIyC"
      },
      "source": [
        "import wikipediaapi\n",
        "wiki_wiki = wikipediaapi.Wikipedia('en')\n",
        "wikipediaapi.log.setLevel(level=wikipediaapi.logging.ERROR)"
      ],
      "execution_count": 4,
      "outputs": []
    },
    {
      "cell_type": "markdown",
      "metadata": {
        "id": "UhLBvpjstQjr"
      },
      "source": [
        "Same for the OpenWeathermap API."
      ]
    },
    {
      "cell_type": "code",
      "metadata": {
        "id": "Ll_QlKTztRId"
      },
      "source": [
        "import json, requests\n",
        "APIkey = \"\" #insert your personal OpenWeathermap API key here if you have one, and want to use this feature"
      ],
      "execution_count": 5,
      "outputs": []
    },
    {
      "cell_type": "markdown",
      "metadata": {
        "id": "eB131KWYteDd"
      },
      "source": [
        "And here is the initialisation of the AIML interpreter."
      ]
    },
    {
      "cell_type": "code",
      "metadata": {
        "id": "dC9TZr8ttfKz",
        "colab": {
          "base_uri": "https://localhost:8080/"
        },
        "outputId": "39facb33-7065-443e-e317-7fbd639e1c51"
      },
      "source": [
        "import aiml\n",
        "kern = aiml.Kernel()\n",
        "kern.setTextEncoding(None)\n",
        "kern.bootstrap(learnFiles=\"mybot.xml\")"
      ],
      "execution_count": 6,
      "outputs": [
        {
          "output_type": "stream",
          "text": [
            "Loading mybot.xml...done (0.00 seconds)\n",
            "Kernel bootstrap completed in 0.00 seconds\n"
          ],
          "name": "stdout"
        }
      ]
    },
    {
      "cell_type": "markdown",
      "metadata": {
        "id": "Wm0TRVnCty6E"
      },
      "source": [
        "Finally, the welcoming message and main loop of the program. This is were post-processing of the AIML interpreter output is done. Once you want to end the conversation, be polite and say good bye properly and the program will let you go."
      ]
    },
    {
      "cell_type": "code",
      "metadata": {
        "id": "2DauwT8_t0EE",
        "colab": {
          "base_uri": "https://localhost:8080/"
        },
        "outputId": "0008ae47-f6db-42ea-8fab-e32a252915e4"
      },
      "source": [
        "print(\"Welcome to the urban agriculture chat bot. Please feel free to ask questions about\",\n",
        "      \"concepts and methods in making your garden a food production site,  Permaculture,\",\n",
        "      \"Aquaponics, crops, the weather, or any plant images you might have.\")\n",
        "while True:\n",
        "    #get user input\n",
        "    try:\n",
        "        userInput = input(\"> \")\n",
        "    except (KeyboardInterrupt, EOFError) as e:\n",
        "        print(\"Bye!\")\n",
        "        break\n",
        "    #pre-process user input and determine response agent (if needed)\n",
        "    responseAgent = 'aiml'\n",
        "    #activate selected response agent\n",
        "    if responseAgent == 'aiml':\n",
        "        answer = kern.respond(userInput)\n",
        "    #post-process the answer for commands\n",
        "    if answer[0] == '#':\n",
        "        params = answer[1:].split('$')\n",
        "        cmd = int(params[0])\n",
        "        if cmd == 0:\n",
        "            print(params[1])\n",
        "            break\n",
        "        elif cmd == 1:\n",
        "            wpage = wiki_wiki.page(params[1])\n",
        "            if wpage.exists():\n",
        "                print(wpage.summary)\n",
        "                print(\"Learn more at\", wpage.canonicalurl)\n",
        "            else:\n",
        "                print(\"Sorry, I don't know what that is.\")\n",
        "        elif cmd == 2:\n",
        "            succeeded = False\n",
        "            api_url = r\"http://api.openweathermap.org/data/2.5/weather?q=\"\n",
        "            response = requests.get(api_url + params[1] + r\"&units=metric&APPID=\"+APIkey)\n",
        "            if response.status_code == 200:\n",
        "                response_json = json.loads(response.content)\n",
        "                if response_json:\n",
        "                    t = response_json['main']['temp']\n",
        "                    tmi = response_json['main']['temp_min']\n",
        "                    tma = response_json['main']['temp_max']\n",
        "                    hum = response_json['main']['humidity']\n",
        "                    wsp = response_json['wind']['speed']\n",
        "                    wdir = response_json['wind']['deg']\n",
        "                    conditions = response_json['weather'][0]['description']\n",
        "                    print(\"The temperature is\", t, \"°C, varying between\", tmi, \"and\", tma, \"at the moment, humidity is\", hum, \"%, wind speed \", wsp, \"m/s,\", conditions)\n",
        "                    succeeded = True\n",
        "            if not succeeded:\n",
        "                print(\"Sorry, I could not resolve the location you gave me.\")\n",
        "        elif cmd == 99:\n",
        "            print(\"I did not get that, please try again.\")\n",
        "    else:\n",
        "        print(answer)"
      ],
      "execution_count": 8,
      "outputs": [
        {
          "output_type": "stream",
          "text": [
            "Welcome to the urban agriculture chat bot. Please feel free to ask questions about concepts and methods in making your garden a food production site,  Permaculture, Aquaponics, crops, the weather, or any plant images you might have.\n",
            "> how are you\n",
            "I am functioning within normal parameters, thanks for asking.\n",
            "> what is a cucumber\n",
            "Cucumber (Cucumis sativus) is a widely-cultivated creeping vine plant in the Cucurbitaceae gourd family that bears usually cylindrical fruits, which are used as vegetables. Considered an annual plant, there are three main varieties of cucumber — slicing, pickling, and burpless/seedless — within which several cultivars have been created. The cucumber originates from South Asia, but now grows on most continents, as many different types of cucumber are traded on the global market. In North America, the term wild cucumber refers to plants in the genera Echinocystis and Marah, though the two are not closely related.\n",
            "Learn more at https://en.wikipedia.org/wiki/Cucumber\n",
            "> how is the weather in berlin\n",
            "The temperature is 18.75 °C, varying between 16.66 and 21.16 at the moment, humidity is 70 %, wind speed  2.24 m/s, few clouds\n",
            "> why do you exist\n",
            "I did not get that, please try again.\n",
            "> bye\n",
            "Bye! Nice talking to you. You take care now.\n"
          ],
          "name": "stdout"
        }
      ]
    }
  ]
}
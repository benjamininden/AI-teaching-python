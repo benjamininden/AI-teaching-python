{
  "nbformat": 4,
  "nbformat_minor": 0,
  "metadata": {
    "colab": {
      "name": "BrillTaggerNLTK.ipynb",
      "provenance": [],
      "authorship_tag": "ABX9TyPjRxVCQFiwbGJURsJkVzAI",
      "include_colab_link": true
    },
    "kernelspec": {
      "name": "python3",
      "display_name": "Python 3"
    },
    "language_info": {
      "name": "python"
    }
  },
  "cells": [
    {
      "cell_type": "markdown",
      "metadata": {
        "id": "view-in-github",
        "colab_type": "text"
      },
      "source": [
        "<a href=\"https://colab.research.google.com/github/benjamininden/AI-teaching-python/blob/main/BrillTaggerNLTK.ipynb\" target=\"_parent\"><img src=\"https://colab.research.google.com/assets/colab-badge.svg\" alt=\"Open In Colab\"/></a>"
      ]
    },
    {
      "cell_type": "markdown",
      "metadata": {
        "id": "SMpYstBXYzCh"
      },
      "source": [
        "# Implementing a Brill tagger with NLTK"
      ]
    },
    {
      "cell_type": "markdown",
      "metadata": {
        "id": "mQJzYU0GYx89"
      },
      "source": [
        "The [Brill tagger](https://en.wikipedia.org/wiki/Brill_tagger) was invented by Eric Brill in 1993. It is a rule-based tagger, the [NLTK library](http://www.nltk.org/) provides some code that helps to implement it. While the Brill tagger is no longer state of the art, it can still provide a baseline, help to understand the problem of tagging, or be an incentive to explore what NLTK has to offer. Here you can find an implementation of the Brill tagger (with minor variations).\n",
        "\n",
        "The first step is to import necessary Python packages, and download some NLTK data. The universal tag set contains a coarse-grained set of grammatical categories that will be used to tag the words. The [Brown corpus](https://en.wikipedia.org/wiki/Brown_Corpus) is a collection of annotated texts in American English that has been used in linguistic research for decades. It will be used to train and test our tagger."
      ]
    },
    {
      "cell_type": "code",
      "metadata": {
        "colab": {
          "base_uri": "https://localhost:8080/"
        },
        "id": "xSl0UrgHM6o5",
        "outputId": "0da94bb6-71e1-4668-cf29-7ecb7f04e627"
      },
      "source": [
        "import nltk\n",
        "import nltk.tag.brill\n",
        "nltk.download('universal_tagset')\n",
        "nltk.download('brown')\n",
        "from nltk.corpus import brown"
      ],
      "execution_count": 4,
      "outputs": [
        {
          "output_type": "stream",
          "text": [
            "[nltk_data] Downloading package universal_tagset to /root/nltk_data...\n",
            "[nltk_data]   Package universal_tagset is already up-to-date!\n",
            "[nltk_data] Downloading package brown to /root/nltk_data...\n",
            "[nltk_data]   Package brown is already up-to-date!\n"
          ],
          "name": "stdout"
        }
      ]
    },
    {
      "cell_type": "markdown",
      "metadata": {
        "id": "QVYIX5_1dGRU"
      },
      "source": [
        "Next, we extract a training set of sentences from the Brown corpus (the 10% not used will later be used as a test set)."
      ]
    },
    {
      "cell_type": "code",
      "metadata": {
        "id": "p-dYL6h6X-rC"
      },
      "source": [
        "brown_tagged_sents = brown.tagged_sents(categories='news', tagset='universal')\n",
        "brown_sents = brown.sents(categories='news')\n",
        "size = int(len(brown_tagged_sents) * 0.9)\n",
        "train_sents = brown_tagged_sents[:size]"
      ],
      "execution_count": 5,
      "outputs": []
    },
    {
      "cell_type": "markdown",
      "metadata": {
        "id": "jiFsF8DDYSuo"
      },
      "source": [
        "Once trained, the Brill tagger proceeds in two stages. In the first stage, each word that occured in the training corpus is tagged with the tag that it received most frequently there. Each capitalized word that did not occur in the training corpus is tagged as proper noun, while each other word is tagged with the tag that is most common for words ending with the same three letters. Below, we specify these rules but with a few differences, we do not always look for the last three letters but for other patterns that commonly occur in English words. [Regular expressions](https://docs.python.org/3/library/re.html) are used to specify those patterns."
      ]
    },
    {
      "cell_type": "code",
      "metadata": {
        "id": "b5QdjfakYTQQ"
      },
      "source": [
        "backoff = nltk.RegexpTagger([\n",
        "(r'^[A-Z]+.*$', 'NOUN'),\n",
        "# proper nouns\n",
        "(r'^-?[0-9]+(.[0-9]+)?$', 'NUM'), # cardinal numbers\n",
        "(r'(The|the|A|a|An|an)$', 'DET'), # articles\n",
        "(r'.*able$', 'ADJ'),\n",
        "# adjectives\n",
        "(r'.*ness$', 'NOUN'),\n",
        "# nouns formed from adjectives\n",
        "(r'.*ly$', 'ADV'),\n",
        "# adverbs\n",
        "(r'.*s$', 'NOUN'),\n",
        "# plural nouns\n",
        "(r'.*ing$', 'VERB'),\n",
        "# gerunds\n",
        "(r'.*ed$', 'VERB'),\n",
        "# past tense verbs\n",
        "(r'.*', 'NOUN')\n",
        "# nouns (default)\n",
        "])\n",
        "baseline_tagger = nltk.UnigramTagger(train_sents, backoff=backoff)"
      ],
      "execution_count": 6,
      "outputs": []
    },
    {
      "cell_type": "markdown",
      "metadata": {
        "id": "67JAJ_fOYeWB"
      },
      "source": [
        "In the second stage of Brill tagging, rules from the rule set are applied repeatedly until a threshold is reached or no more rules apply. The rules have forms such as, for example, \"change tag-a to tag-b if the preceding word is tagged tag-z and the following word is tagged tag-w\u0011\".\n",
        "\n",
        "How are these rules learned? The training corpus is first tagged using the \u001cfirst stage of the trained Brill tagger. By comparing the results against the true tags, a list of tag error triplets of the form <tag-a, tag-b, number> is generated, in which the elements indicate the number of times the \u001cfirst stage mistagged with tag-a when the correct tag was tag-b.\n",
        "\n",
        "The tagger has a list of rule templates. Each of these templates is now\n",
        "instantiated with particular tags such that a given error\n",
        "would be corrected by the rule. The rule that leads to the strongest decrease in error rate if applied on the whole corpus is then added to the rule set. The code below sets up a BrillTaggerTrainer to train the rules of our Brill tagger."
      ]
    },
    {
      "cell_type": "code",
      "metadata": {
        "id": "ROsCsMLJYe7n"
      },
      "source": [
        "tt = nltk.tag.brill_trainer.BrillTaggerTrainer(baseline_tagger,\n",
        "nltk.tag.brill.brill24())\n",
        "brill_tagger = tt.train(train_sents, max_rules=15)"
      ],
      "execution_count": 7,
      "outputs": []
    },
    {
      "cell_type": "markdown",
      "metadata": {
        "id": "zWuynHyPYmLy"
      },
      "source": [
        "The learned rules are actually human-readable, so we take a look at them. We also evaluate the Brill tagger by having it tag one sentence for purposes of demonstration, as well as calculating its accuracy on the test set."
      ]
    },
    {
      "cell_type": "code",
      "metadata": {
        "colab": {
          "base_uri": "https://localhost:8080/"
        },
        "id": "YrQwjhfFYpdr",
        "outputId": "9c6ba85f-e19a-4582-f886-5f8fb6f8e4a2"
      },
      "source": [
        "print(brill_tagger.rules())\n",
        "print(brill_tagger.tag(brown_sents[2007]))\n",
        "print(brill_tagger.evaluate(brown_tagged_sents[size:]))"
      ],
      "execution_count": 8,
      "outputs": [
        {
          "output_type": "stream",
          "text": [
            "(Rule('025', 'PRT', 'ADP', [(Pos([1]),'DET')]), Rule('034', 'PRT', 'ADP', [(Pos([1]),'NOUN'), (Pos([2]),'NOUN')]), Rule('032', 'NOUN', 'VERB', [(Pos([-1]),'PRT'), (Pos([1]),'DET')]), Rule('034', 'PRT', 'ADP', [(Pos([1]),'NOUN'), (Pos([2]),'.')]), Rule('043', 'ADP', 'PRT', [(Word([0]),'all')]), Rule('043', 'ADP', 'PRT', [(Word([0]),'up')]), Rule('025', 'PRT', 'ADP', [(Pos([1]),'NUM')]), Rule('034', 'PRT', 'ADP', [(Pos([1]),'ADJ'), (Pos([2]),'NOUN')]), Rule('032', 'VERB', 'NOUN', [(Pos([-1]),'DET'), (Pos([1]),'ADP')]), Rule('038', 'ADP', 'ADV', [(Word([2]),'as')]), Rule('044', 'NOUN', 'VERB', [(Word([-1]),'would'), (Pos([-1]),'VERB')]), Rule('043', 'ADP', 'PRT', [(Word([0]),'out')]), Rule('035', 'NOUN', 'VERB', [(Word([-1]),'will')]), Rule('034', 'ADP', 'PRON', [(Pos([1]),'VERB'), (Pos([2]),'VERB')]), Rule('032', 'VERB', 'NOUN', [(Pos([-1]),'ADJ'), (Pos([1]),'.')]))\n",
            "[('Various', 'ADJ'), ('of', 'ADP'), ('the', 'DET'), ('apartments', 'NOUN'), ('are', 'VERB'), ('of', 'ADP'), ('the', 'DET'), ('terrace', 'NOUN'), ('type', 'NOUN'), (',', '.'), ('being', 'VERB'), ('on', 'ADP'), ('the', 'DET'), ('ground', 'NOUN'), ('floor', 'NOUN'), ('so', 'ADV'), ('that', 'ADP'), ('entrance', 'NOUN'), ('is', 'VERB'), ('direct', 'ADJ'), ('.', '.')]\n",
            "0.943586165653344\n"
          ],
          "name": "stdout"
        }
      ]
    }
  ]
}